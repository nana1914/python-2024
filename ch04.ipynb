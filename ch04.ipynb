{
 "cells": [
  {
   "cell_type": "code",
   "execution_count": 11,
   "metadata": {},
   "outputs": [
    {
     "data": {
      "text/plain": [
       "['c:\\\\Users\\\\109-1\\\\AppData\\\\Local\\\\Programs\\\\Python\\\\Python312',\n",
       " 'c:\\\\Users\\\\109-1\\\\AppData\\\\Local\\\\Programs\\\\Python\\\\Python312\\\\Lib\\\\site-packages']"
      ]
     },
     "execution_count": 11,
     "metadata": {},
     "output_type": "execute_result"
    }
   ],
   "source": [
    "import site\n",
    "site.getsitepackages()"
   ]
  },
  {
   "cell_type": "markdown",
   "metadata": {},
   "source": [
    "## code 04-02"
   ]
  },
  {
   "cell_type": "code",
   "execution_count": 12,
   "metadata": {},
   "outputs": [
    {
     "name": "stdout",
     "output_type": "stream",
     "text": [
      "축하합니다! 장학금 지급 대상자이다.\n",
      "당신의 1학기 평균 평점 3.89이다.\n"
     ]
    }
   ],
   "source": [
    "#%% 04-02gradeif.py\n",
    "grade = float(input('1학기 평균 평점은? '))\n",
    "if 3.8 <= grade:\n",
    "    print('축하합니다! 장학금 지급 대상자이다.')\n",
    "print('당신의 1학기 평균 평점 %.2f이다.' %(grade))"
   ]
  },
  {
   "cell_type": "markdown",
   "metadata": {},
   "source": [
    "## code 04-03"
   ]
  },
  {
   "cell_type": "code",
   "execution_count": 13,
   "metadata": {},
   "outputs": [
    {
     "name": "stdout",
     "output_type": "stream",
     "text": [
      "지금 시각: 10시 34, 조조 할인 안된다.\n"
     ]
    }
   ],
   "source": [
    "#%% 04-03earlybirddiscount.py\n",
    "from time import localtime\n",
    "hour = localtime().tm_hour\n",
    "mnt = localtime().tm_min\n",
    "\n",
    "if hour < 10:\n",
    "    print('지금 시각: %d시 %d분, 조조 할인 된다.' %(hour, mnt))\n",
    "else:\n",
    "    print('지금 시각: %d시 %d, 조조 할인 안된다.' %(hour, mnt))"
   ]
  },
  {
   "cell_type": "markdown",
   "metadata": {},
   "source": [
    "## code 04-04"
   ]
  },
  {
   "cell_type": "code",
   "execution_count": 14,
   "metadata": {},
   "outputs": [
    {
     "name": "stdout",
     "output_type": "stream",
     "text": [
      "44은 짝수다.\n"
     ]
    }
   ],
   "source": [
    "#%% 04-04odddreven.py\n",
    "n = int(input('정수 입력 >> '))\n",
    "if n%2 == 0:\n",
    "    print('%d은 짝수다.' %n)\n",
    "else:\n",
    "    print('%d은 홀수다.' %n)"
   ]
  },
  {
   "cell_type": "markdown",
   "metadata": {},
   "source": [
    "## code 04-05\n"
   ]
  },
  {
   "cell_type": "code",
   "execution_count": 15,
   "metadata": {},
   "outputs": [
    {
     "name": "stdout",
     "output_type": "stream",
     "text": [
      "미세먼지 농도: 140.00, 등급: 나쁨\n"
     ]
    }
   ],
   "source": [
    "#%% 04-05dustforecast.py\n",
    "PM = float(input('미세먼지(10마이크로그램)의 농도는 ? '))\n",
    "if 151 <= PM:\n",
    "    print('미세먼지 농도: {:.2f}, 등급: {}'.format(PM, '매우 나쁨'))\n",
    "elif 81 <= PM:\n",
    "    print('미세먼지 농도: {:.2f}, 등급: {}'.format(PM, '나쁨'))\n",
    "elif 31 <= PM:\n",
    "    print('미세먼지 농도: {:.2f}, 등급: {}'.format(PM, '보통'))\n",
    "else:\n",
    "    print('미세먼지 농도: {:.2f}, 등급: {}'.format(PM, '좋음'))"
   ]
  },
  {
   "cell_type": "markdown",
   "metadata": {},
   "source": [
    "## code 04-06"
   ]
  },
  {
   "cell_type": "code",
   "execution_count": 16,
   "metadata": {},
   "outputs": [
    {
     "name": "stdout",
     "output_type": "stream",
     "text": [
      "2. 카페라떼 선택\n"
     ]
    }
   ],
   "source": [
    "#%% 04-06nestedmenu.py\n",
    "category = int(input('원하는 음료는? 1. 커피 2. 주스 '))\n",
    "\n",
    "if category == 1:\n",
    "    menu = int(input('번호 선택? 1. 아메리카노 2. 카페라떼 3. 카푸치노 '))\n",
    "    if menu == 1:\n",
    "        print('1. 아메리카노 선택')\n",
    "    elif menu == 2:\n",
    "        print('2. 카페라떼 선택')\n",
    "    if menu == 3:\n",
    "        print('3. 카푸치노 선택')\n",
    "\n",
    "else:\n",
    "    menu = int(input('번호 선택? 1. 키위주스 2. 토마토주스 3. 오렌지주스 '))\n",
    "    if menu == 1:\n",
    "        print('1. 키위주스 선택')\n",
    "    elif menu == 2:\n",
    "        print('2. 토마토주스 선택')\n",
    "    if menu == 3:\n",
    "        print('3. 오렌지주스 선택')"
   ]
  },
  {
   "cell_type": "markdown",
   "metadata": {},
   "source": [
    "## code 04-07"
   ]
  },
  {
   "cell_type": "code",
   "execution_count": 17,
   "metadata": {},
   "outputs": [
    {
     "name": "stdout",
     "output_type": "stream",
     "text": [
      "1.1 1.1\n",
      "2.5 3.6\n",
      "3.6 7.2\n",
      "4.2 11.4\n",
      "5.4 16.8\n",
      "합: 16.80, 평균: 3.36\n"
     ]
    }
   ],
   "source": [
    "#%% 04-07numseq.py\n",
    "sum = 0\n",
    "for i in 1.1, 2.5, 3.6, 4.2, 5.4:\n",
    "    sum += i\n",
    "    print(i, sum)\n",
    "else:\n",
    "    print('합: %.2f, 평균: %.2f' %(sum, sum/5))"
   ]
  },
  {
   "cell_type": "markdown",
   "metadata": {},
   "source": [
    "## code 04-09"
   ]
  },
  {
   "cell_type": "code",
   "execution_count": 20,
   "metadata": {},
   "outputs": [
    {
     "name": "stdout",
     "output_type": "stream",
     "text": [
      "두 자릿수 정수에서 최소 한 자릿수가 7인 정수 찾기: \n",
      "======================= 결과 =======================\n",
      "17 27 37 47 57 67 70 71 72 73 74 75 76 77 78 79 87 97 "
     ]
    }
   ],
   "source": [
    "#%% 04-09findnum.py\n",
    "n = input(\"10진수의 한 자릿수 입력 >> \")\n",
    "print('두 자릿수 정수에서 최소 한 자릿수가 %s인 정수 찾기: ' %n)\n",
    "print(' 결과 '.center(50, '='))\n",
    "\n",
    "for i in range(10, 100):\n",
    "    snum = str(i)\n",
    "    if n in snum:\n",
    "        print(i, end=\" \")"
   ]
  },
  {
   "cell_type": "markdown",
   "metadata": {},
   "source": [
    "## code 04-10"
   ]
  },
  {
   "cell_type": "code",
   "execution_count": 23,
   "metadata": {},
   "outputs": [
    {
     "name": "stdout",
     "output_type": "stream",
     "text": [
      "들어가세요. 1명\n",
      "들어가세요. 2명\n",
      "커서 못 들어갑니다.\n",
      "커서 못 들어갑니다.\n",
      "커서 못 들어갑니다.\n",
      "들어가세요. 3명\n",
      "들어가세요. 4명\n",
      "4명 모두 찼습니다. 다음 번에 이용하세요.\n"
     ]
    }
   ],
   "source": [
    "#%% 04-10checkrides.py\n",
    "MAXNUM = 4\n",
    "MAXHEIGHT = 130\n",
    "\n",
    "more = True\n",
    "cnt = 0\n",
    "while more:\n",
    "    height = float(input(\"키는 ? \"))\n",
    "    if height < MAXHEIGHT:\n",
    "        cnt += 1\n",
    "        print('들어가세요.', '%d명' %cnt)\n",
    "    else:\n",
    "        print('커서 못 들어갑니다.')\n",
    "    if cnt == MAXNUM:\n",
    "        more = False\n",
    "else:\n",
    "    print('%d명 모두 찼습니다. 다음 번에 이용하세요.' %cnt)"
   ]
  },
  {
   "cell_type": "markdown",
   "metadata": {},
   "source": [
    "## code 04-12"
   ]
  },
  {
   "cell_type": "code",
   "execution_count": 25,
   "metadata": {},
   "outputs": [
    {
     "name": "stdout",
     "output_type": "stream",
     "text": [
      "2 * 1 = 22  2 * 2 = 24  2 * 3 = 26  2 * 4 = 28  2 * 5 = 210  2 * 6 = 212  2 * 7 = 214  2 * 8 = 216  2 * 9 = 218  \n",
      "3 * 1 = 23  3 * 2 = 26  3 * 3 = 29  3 * 4 = 212  3 * 5 = 215  3 * 6 = 218  3 * 7 = 221  3 * 8 = 224  3 * 9 = 227  \n",
      "4 * 1 = 24  4 * 2 = 28  4 * 3 = 212  4 * 4 = 216  4 * 5 = 220  4 * 6 = 224  4 * 7 = 228  4 * 8 = 232  4 * 9 = 236  \n",
      "5 * 1 = 25  5 * 2 = 210  5 * 3 = 215  5 * 4 = 220  5 * 5 = 225  5 * 6 = 230  5 * 7 = 235  5 * 8 = 240  5 * 9 = 245  \n",
      "6 * 1 = 26  6 * 2 = 212  6 * 3 = 218  6 * 4 = 224  6 * 5 = 230  6 * 6 = 236  6 * 7 = 242  6 * 8 = 248  6 * 9 = 254  \n",
      "7 * 1 = 27  7 * 2 = 214  7 * 3 = 221  7 * 4 = 228  7 * 5 = 235  7 * 6 = 242  7 * 7 = 249  7 * 8 = 256  7 * 9 = 263  \n",
      "8 * 1 = 28  8 * 2 = 216  8 * 3 = 224  8 * 4 = 232  8 * 5 = 240  8 * 6 = 248  8 * 7 = 256  8 * 8 = 264  8 * 9 = 272  \n",
      "9 * 1 = 29  9 * 2 = 218  9 * 3 = 227  9 * 4 = 236  9 * 5 = 245  9 * 6 = 254  9 * 7 = 263  9 * 8 = 272  9 * 9 = 281  \n"
     ]
    }
   ],
   "source": [
    "#%% 04-12multiplicationtable.py\n",
    "for i in range(2, 10):\n",
    "    for j in range(1, 10):\n",
    "        print('%d * %d = 2%d' %(i, j, i*j), end='  ')\n",
    "    print()"
   ]
  },
  {
   "cell_type": "code",
   "execution_count": 19,
   "metadata": {},
   "outputs": [
    {
     "name": "stdout",
     "output_type": "stream",
     "text": [
      "현재 시간 11시 13분\n"
     ]
    }
   ],
   "source": [
    "from datetime import datetime\n",
    "current = datetime.now()\n",
    "hour = current.hour\n",
    "mnt = current.minute\n",
    "print('현재 시간 %d시 %d분' %(hour, mnt))"
   ]
  },
  {
   "cell_type": "markdown",
   "metadata": {},
   "source": [
    "## code 04-13"
   ]
  },
  {
   "cell_type": "code",
   "execution_count": 58,
   "metadata": {},
   "outputs": [
    {
     "name": "stdout",
     "output_type": "stream",
     "text": [
      "======= 모의 로또 당첨 번호 ========\n",
      "(11, 17, 28, 30, 33, 35)\n",
      "\n",
      "---------- 내 번호 확인 -----------\n",
      "30 O  31 X  1 X  17 O  1 X  14 X  \n",
      "2 개 맞음\n"
     ]
    }
   ],
   "source": [
    "#%% 04-13lotto.py\n",
    "winnumber = 11, 17, 28, 30, 33, 35\n",
    "print(' 모의 로또 당첨 번호 '.center(28, '='))\n",
    "print(winnumber)\n",
    "print()\n",
    "print(' 내 번호 확인 '.center(30, '-'))\n",
    "cnt = 0\n",
    "import random\n",
    "for i in range(6):\n",
    "    n = random.randint(1, 45)\n",
    "    if n in winnumber:\n",
    "        print(n, 'O ', end=' ')\n",
    "        cnt += 1\n",
    "    else:\n",
    "        print(n, 'X ', end=' ')\n",
    "\n",
    "print()\n",
    "print(cnt, '개 맞음')"
   ]
  },
  {
   "cell_type": "markdown",
   "metadata": {},
   "source": [
    "## code 04-15"
   ]
  },
  {
   "cell_type": "code",
   "execution_count": 65,
   "metadata": {},
   "outputs": [
    {
     "name": "stdout",
     "output_type": "stream",
     "text": [
      "드디어 7, 종료!\n"
     ]
    }
   ],
   "source": [
    "#%% 04-15break7.py\n",
    "from random import randint\n",
    "LUCKY = 7\n",
    "\n",
    "while True:\n",
    "    n = randint(0, 9)\n",
    "    if n == LUCKY:\n",
    "        print('드디어 %d, 종료!' %n)\n",
    "        break\n",
    "    else:\n",
    "        print('%d, %d 나올 때까지 계속!' %(n, LUCKY))\n",
    "else:\n",
    "    print('여기는 실행되지 않습니다.')"
   ]
  },
  {
   "cell_type": "markdown",
   "metadata": {},
   "source": [
    "## code 04-16"
   ]
  },
  {
   "cell_type": "code",
   "execution_count": 30,
   "metadata": {},
   "outputs": [
    {
     "name": "stdout",
     "output_type": "stream",
     "text": [
      "잘못 입력했어요!\n",
      "입력: monday, 철자가 맞습니다.\n",
      "****** 종료 *****\n"
     ]
    }
   ],
   "source": [
    "#%% 04-16dayspelltest.py\n",
    "days = ['monday', 'tuesday', 'wednesday']\n",
    "\n",
    "while True:\n",
    "    user = input('월, 화, 수 중 하나 영어 단어 입력 >> ')\n",
    "    if user not in days:\n",
    "        print('잘못 입력했어요!')\n",
    "        continue\n",
    "    print('입력: %s, 철자가 맞습니다.' %user)\n",
    "    break\n",
    "\n",
    "print(' 종료 '.center(15, '*'))"
   ]
  },
  {
   "cell_type": "markdown",
   "metadata": {},
   "source": [
    "## 학습내용점검"
   ]
  },
  {
   "cell_type": "markdown",
   "metadata": {},
   "source": [
    "#### 06-1"
   ]
  },
  {
   "cell_type": "code",
   "execution_count": 66,
   "metadata": {},
   "outputs": [
    {
     "name": "stdout",
     "output_type": "stream",
     "text": [
      "0 3 6 9 \n"
     ]
    }
   ],
   "source": [
    "for n in range(10):\n",
    "    if n%3 == 0:\n",
    "        print(n, end=' ')\n",
    "print()"
   ]
  },
  {
   "cell_type": "markdown",
   "metadata": {},
   "source": [
    "#### 06-2"
   ]
  },
  {
   "cell_type": "code",
   "execution_count": 5,
   "metadata": {},
   "outputs": [
    {
     "name": "stdout",
     "output_type": "stream",
     "text": [
      "12 16 "
     ]
    }
   ],
   "source": [
    "for n in range(10, 20):\n",
    "    if n%4 == 0:\n",
    "        print(n, end=' ')"
   ]
  },
  {
   "cell_type": "markdown",
   "metadata": {},
   "source": [
    "#### 07-1"
   ]
  },
  {
   "cell_type": "code",
   "execution_count": 69,
   "metadata": {},
   "outputs": [
    {
     "name": "stdout",
     "output_type": "stream",
     "text": [
      "3\n",
      "5\n",
      "7\n",
      "9\n",
      "\n"
     ]
    }
   ],
   "source": [
    "number = 1\n",
    "while True:\n",
    "    number += 2\n",
    "    if number > 10:\n",
    "        break\n",
    "    print(number)\n",
    "print()"
   ]
  },
  {
   "cell_type": "markdown",
   "metadata": {},
   "source": [
    "#### 07-2"
   ]
  },
  {
   "cell_type": "code",
   "execution_count": 70,
   "metadata": {},
   "outputs": [
    {
     "name": "stdout",
     "output_type": "stream",
     "text": [
      "7\n",
      "10\n",
      "13\n",
      "19\n",
      "\n"
     ]
    }
   ],
   "source": [
    "number = 1\n",
    "while number <= 16:\n",
    "    number += 3\n",
    "    if number % 4 == 0:\n",
    "        continue\n",
    "    print(number)\n",
    "print()"
   ]
  },
  {
   "cell_type": "markdown",
   "metadata": {},
   "source": [
    "## 04-Lab1"
   ]
  },
  {
   "cell_type": "code",
   "execution_count": 73,
   "metadata": {},
   "outputs": [
    {
     "name": "stdout",
     "output_type": "stream",
     "text": [
      "축하한다. 4: 정답이다.\n",
      "************* 종료 *************\n"
     ]
    }
   ],
   "source": [
    "import random\n",
    "answer = random.randint(1, 100)\n",
    "maxnum = 100\n",
    "#indata = int(input('1에서 10 사이의 수를 맞히세요 >> '))\n",
    "indata = int(input(f'1에서 {maxnum}사이의 수를 맞추세요 >> '))\n",
    "while True:\n",
    "    if indata == answer:\n",
    "        print('축하한다. {}: 정답이다.'.format(indata))\n",
    "        break\n",
    "    elif indata < answer:\n",
    "        str = '{}보다 더 큰 수로 다시 입력 >> '.format(indata)\n",
    "    else:\n",
    "        str = '{}보다 더 작은 수로 다시 입력 >> '.format(indata)\n",
    "    indata = int(input(str))\n",
    "\n",
    "print(\" 종료 \".center(30, '*'))"
   ]
  },
  {
   "cell_type": "markdown",
   "metadata": {},
   "source": [
    "## 04-Lab2"
   ]
  },
  {
   "cell_type": "code",
   "execution_count": null,
   "metadata": {},
   "outputs": [
    {
     "name": "stdout",
     "output_type": "stream",
     "text": [
      "축하한다. 4: 정답이다.\n",
      "************* 종료 *************\n"
     ]
    }
   ],
   "source": [
    "import random\n",
    "answer = random.randint(1, 100)\n",
    "maxnum = 100\n",
    "#indata = int(input('1에서 10 사이의 수를 맞히세요 >> '))\n",
    "indata = int(input(f'1에서 {maxnum}사이의 수를 맞추세요 >> '))\n",
    "while True:\n",
    "    if indata == answer:\n",
    "        print('축하한다. {}: 정답이다.'.format(indata))\n",
    "        break\n",
    "    elif indata < answer:\n",
    "        str = '{}보다 더 큰 수로 다시 입력 >> '.format(indata)\n",
    "    else:\n",
    "        str = '{}보다 더 작은 수로 다시 입력 >> '.format(indata)\n",
    "    indata = int(input(str))\n",
    "\n",
    "print(\" 종료 \".center(30, '*'))"
   ]
  },
  {
   "cell_type": "markdown",
   "metadata": {},
   "source": [
    "## 04-Lab3"
   ]
  },
  {
   "cell_type": "code",
   "execution_count": 8,
   "metadata": {},
   "outputs": [
    {
     "name": "stdout",
     "output_type": "stream",
     "text": [
      "\n",
      " 일 월 화 수 목 금 토 \n",
      "\n",
      "              1  2  3 \n",
      " 4  5  6  7  8  9 10 \n",
      "11 12 13 14 15 16 17 \n",
      "18 19 20 21 22 23 24 \n",
      "25 26 27 28 29 30 31 \n",
      "\n"
     ]
    }
   ],
   "source": [
    "dates = int(input('한 달 최대 일수를 입력 >> '))\n",
    "day = int(input('첫 날1일의 시작 요일을 입력(0=일, 1=월, ... 6=토) >>'))\n",
    "day %= 7    #7이 넘어가면 재설정\n",
    "\n",
    "#요일 출력\n",
    "print('\\n', end = ' ')\n",
    "for i in '일월화수목금토':\n",
    "    print('%s' % i, end = ' ')\n",
    "else:\n",
    "    print('\\n')\n",
    "\n",
    "cnt = 0\n",
    "#빈 날짜 출력\n",
    "if day != 0:\n",
    "    print('   ' * day, end = '')\n",
    "    cnt += day\n",
    "\n",
    "#1일부터 말일까지 출력\n",
    "for i in range(1, dates + 1):\n",
    "    print('%2d' % i, end = ' ')\n",
    "    cnt +=1\n",
    "    if cnt % 7 == 0:    #1주가 모두 출력되면 다음부터는 다음 줄에서 출력\n",
    "        print()\n",
    "else:\n",
    "    print()\n"
   ]
  }
 ],
 "metadata": {
  "kernelspec": {
   "display_name": "Python 3",
   "language": "python",
   "name": "python3"
  },
  "language_info": {
   "codemirror_mode": {
    "name": "ipython",
    "version": 3
   },
   "file_extension": ".py",
   "mimetype": "text/x-python",
   "name": "python",
   "nbconvert_exporter": "python",
   "pygments_lexer": "ipython3",
   "version": "3.12.3"
  }
 },
 "nbformat": 4,
 "nbformat_minor": 2
}
